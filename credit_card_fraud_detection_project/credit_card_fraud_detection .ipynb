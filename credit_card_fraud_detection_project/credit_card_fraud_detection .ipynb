{
 "cells": [
  {
   "cell_type": "markdown",
   "metadata": {
    "id": "AiXP52MWRt7x"
   },
   "source": [
    "**Aim: _to predict fradulent credit card transaction using deep learning model. This is crucial for bank's as well as customer's perspective, Every fraud is a loss to the bank as the bank is responsible for the fraud transaction and bank cannot afford that. so here while creating the model we need to be more concern about fraudulent data._**"
   ]
  },
  {
   "cell_type": "markdown",
   "metadata": {},
   "source": [
    "**#import all necessary libraries**"
   ]
  },
  {
   "cell_type": "code",
   "execution_count": null,
   "metadata": {
    "id": "F4qTrIb-yPCB"
   },
   "outputs": [],
   "source": [
    "import numpy as np\n",
    "import pandas as pd\n",
    "import matplotlib.pyplot as plt\n",
    "import seaborn as sns\n",
    "\n",
    "from tensorflow.keras.models import Sequential\n",
    "from tensorflow.keras.layers import Dense\n",
    "\n",
    "from sklearn.preprocessing import StandardScaler\n",
    "from sklearn.decomposition import PCA \n",
    "\n",
    "from sklearn.model_selection import train_test_split\n",
    "from sklearn.metrics import classification_report"
   ]
  },
  {
   "cell_type": "markdown",
   "metadata": {},
   "source": [
    "**#get the data**"
   ]
  },
  {
   "cell_type": "code",
   "execution_count": null,
   "metadata": {
    "colab": {
     "base_uri": "https://localhost:8080/",
     "height": 439
    },
    "id": "ZmFPyNiJPpX1",
    "outputId": "b8a59969-6ff8-4028-8793-965ec2d8d328"
   },
   "outputs": [
    {
     "data": {
      "text/html": [
       "<div>\n",
       "<style scoped>\n",
       "    .dataframe tbody tr th:only-of-type {\n",
       "        vertical-align: middle;\n",
       "    }\n",
       "\n",
       "    .dataframe tbody tr th {\n",
       "        vertical-align: top;\n",
       "    }\n",
       "\n",
       "    .dataframe thead th {\n",
       "        text-align: right;\n",
       "    }\n",
       "</style>\n",
       "<table border=\"1\" class=\"dataframe\">\n",
       "  <thead>\n",
       "    <tr style=\"text-align: right;\">\n",
       "      <th></th>\n",
       "      <th>Time</th>\n",
       "      <th>V1</th>\n",
       "      <th>V2</th>\n",
       "      <th>V3</th>\n",
       "      <th>V4</th>\n",
       "      <th>V5</th>\n",
       "      <th>V6</th>\n",
       "      <th>V7</th>\n",
       "      <th>V8</th>\n",
       "      <th>V9</th>\n",
       "      <th>V10</th>\n",
       "      <th>V11</th>\n",
       "      <th>V12</th>\n",
       "      <th>V13</th>\n",
       "      <th>V14</th>\n",
       "      <th>V15</th>\n",
       "      <th>V16</th>\n",
       "      <th>V17</th>\n",
       "      <th>V18</th>\n",
       "      <th>V19</th>\n",
       "      <th>V20</th>\n",
       "      <th>V21</th>\n",
       "      <th>V22</th>\n",
       "      <th>V23</th>\n",
       "      <th>V24</th>\n",
       "      <th>V25</th>\n",
       "      <th>V26</th>\n",
       "      <th>V27</th>\n",
       "      <th>V28</th>\n",
       "      <th>Amount</th>\n",
       "      <th>Class</th>\n",
       "    </tr>\n",
       "  </thead>\n",
       "  <tbody>\n",
       "    <tr>\n",
       "      <th>0</th>\n",
       "      <td>0.0</td>\n",
       "      <td>-1.359807</td>\n",
       "      <td>-0.072781</td>\n",
       "      <td>2.536347</td>\n",
       "      <td>1.378155</td>\n",
       "      <td>-0.338321</td>\n",
       "      <td>0.462388</td>\n",
       "      <td>0.239599</td>\n",
       "      <td>0.098698</td>\n",
       "      <td>0.363787</td>\n",
       "      <td>0.090794</td>\n",
       "      <td>-0.551600</td>\n",
       "      <td>-0.617801</td>\n",
       "      <td>-0.991390</td>\n",
       "      <td>-0.311169</td>\n",
       "      <td>1.468177</td>\n",
       "      <td>-0.470401</td>\n",
       "      <td>0.207971</td>\n",
       "      <td>0.025791</td>\n",
       "      <td>0.403993</td>\n",
       "      <td>0.251412</td>\n",
       "      <td>-0.018307</td>\n",
       "      <td>0.277838</td>\n",
       "      <td>-0.110474</td>\n",
       "      <td>0.066928</td>\n",
       "      <td>0.128539</td>\n",
       "      <td>-0.189115</td>\n",
       "      <td>0.133558</td>\n",
       "      <td>-0.021053</td>\n",
       "      <td>149.62</td>\n",
       "      <td>0</td>\n",
       "    </tr>\n",
       "    <tr>\n",
       "      <th>1</th>\n",
       "      <td>0.0</td>\n",
       "      <td>1.191857</td>\n",
       "      <td>0.266151</td>\n",
       "      <td>0.166480</td>\n",
       "      <td>0.448154</td>\n",
       "      <td>0.060018</td>\n",
       "      <td>-0.082361</td>\n",
       "      <td>-0.078803</td>\n",
       "      <td>0.085102</td>\n",
       "      <td>-0.255425</td>\n",
       "      <td>-0.166974</td>\n",
       "      <td>1.612727</td>\n",
       "      <td>1.065235</td>\n",
       "      <td>0.489095</td>\n",
       "      <td>-0.143772</td>\n",
       "      <td>0.635558</td>\n",
       "      <td>0.463917</td>\n",
       "      <td>-0.114805</td>\n",
       "      <td>-0.183361</td>\n",
       "      <td>-0.145783</td>\n",
       "      <td>-0.069083</td>\n",
       "      <td>-0.225775</td>\n",
       "      <td>-0.638672</td>\n",
       "      <td>0.101288</td>\n",
       "      <td>-0.339846</td>\n",
       "      <td>0.167170</td>\n",
       "      <td>0.125895</td>\n",
       "      <td>-0.008983</td>\n",
       "      <td>0.014724</td>\n",
       "      <td>2.69</td>\n",
       "      <td>0</td>\n",
       "    </tr>\n",
       "    <tr>\n",
       "      <th>2</th>\n",
       "      <td>1.0</td>\n",
       "      <td>-1.358354</td>\n",
       "      <td>-1.340163</td>\n",
       "      <td>1.773209</td>\n",
       "      <td>0.379780</td>\n",
       "      <td>-0.503198</td>\n",
       "      <td>1.800499</td>\n",
       "      <td>0.791461</td>\n",
       "      <td>0.247676</td>\n",
       "      <td>-1.514654</td>\n",
       "      <td>0.207643</td>\n",
       "      <td>0.624501</td>\n",
       "      <td>0.066084</td>\n",
       "      <td>0.717293</td>\n",
       "      <td>-0.165946</td>\n",
       "      <td>2.345865</td>\n",
       "      <td>-2.890083</td>\n",
       "      <td>1.109969</td>\n",
       "      <td>-0.121359</td>\n",
       "      <td>-2.261857</td>\n",
       "      <td>0.524980</td>\n",
       "      <td>0.247998</td>\n",
       "      <td>0.771679</td>\n",
       "      <td>0.909412</td>\n",
       "      <td>-0.689281</td>\n",
       "      <td>-0.327642</td>\n",
       "      <td>-0.139097</td>\n",
       "      <td>-0.055353</td>\n",
       "      <td>-0.059752</td>\n",
       "      <td>378.66</td>\n",
       "      <td>0</td>\n",
       "    </tr>\n",
       "    <tr>\n",
       "      <th>3</th>\n",
       "      <td>1.0</td>\n",
       "      <td>-0.966272</td>\n",
       "      <td>-0.185226</td>\n",
       "      <td>1.792993</td>\n",
       "      <td>-0.863291</td>\n",
       "      <td>-0.010309</td>\n",
       "      <td>1.247203</td>\n",
       "      <td>0.237609</td>\n",
       "      <td>0.377436</td>\n",
       "      <td>-1.387024</td>\n",
       "      <td>-0.054952</td>\n",
       "      <td>-0.226487</td>\n",
       "      <td>0.178228</td>\n",
       "      <td>0.507757</td>\n",
       "      <td>-0.287924</td>\n",
       "      <td>-0.631418</td>\n",
       "      <td>-1.059647</td>\n",
       "      <td>-0.684093</td>\n",
       "      <td>1.965775</td>\n",
       "      <td>-1.232622</td>\n",
       "      <td>-0.208038</td>\n",
       "      <td>-0.108300</td>\n",
       "      <td>0.005274</td>\n",
       "      <td>-0.190321</td>\n",
       "      <td>-1.175575</td>\n",
       "      <td>0.647376</td>\n",
       "      <td>-0.221929</td>\n",
       "      <td>0.062723</td>\n",
       "      <td>0.061458</td>\n",
       "      <td>123.50</td>\n",
       "      <td>0</td>\n",
       "    </tr>\n",
       "    <tr>\n",
       "      <th>4</th>\n",
       "      <td>2.0</td>\n",
       "      <td>-1.158233</td>\n",
       "      <td>0.877737</td>\n",
       "      <td>1.548718</td>\n",
       "      <td>0.403034</td>\n",
       "      <td>-0.407193</td>\n",
       "      <td>0.095921</td>\n",
       "      <td>0.592941</td>\n",
       "      <td>-0.270533</td>\n",
       "      <td>0.817739</td>\n",
       "      <td>0.753074</td>\n",
       "      <td>-0.822843</td>\n",
       "      <td>0.538196</td>\n",
       "      <td>1.345852</td>\n",
       "      <td>-1.119670</td>\n",
       "      <td>0.175121</td>\n",
       "      <td>-0.451449</td>\n",
       "      <td>-0.237033</td>\n",
       "      <td>-0.038195</td>\n",
       "      <td>0.803487</td>\n",
       "      <td>0.408542</td>\n",
       "      <td>-0.009431</td>\n",
       "      <td>0.798278</td>\n",
       "      <td>-0.137458</td>\n",
       "      <td>0.141267</td>\n",
       "      <td>-0.206010</td>\n",
       "      <td>0.502292</td>\n",
       "      <td>0.219422</td>\n",
       "      <td>0.215153</td>\n",
       "      <td>69.99</td>\n",
       "      <td>0</td>\n",
       "    </tr>\n",
       "    <tr>\n",
       "      <th>...</th>\n",
       "      <td>...</td>\n",
       "      <td>...</td>\n",
       "      <td>...</td>\n",
       "      <td>...</td>\n",
       "      <td>...</td>\n",
       "      <td>...</td>\n",
       "      <td>...</td>\n",
       "      <td>...</td>\n",
       "      <td>...</td>\n",
       "      <td>...</td>\n",
       "      <td>...</td>\n",
       "      <td>...</td>\n",
       "      <td>...</td>\n",
       "      <td>...</td>\n",
       "      <td>...</td>\n",
       "      <td>...</td>\n",
       "      <td>...</td>\n",
       "      <td>...</td>\n",
       "      <td>...</td>\n",
       "      <td>...</td>\n",
       "      <td>...</td>\n",
       "      <td>...</td>\n",
       "      <td>...</td>\n",
       "      <td>...</td>\n",
       "      <td>...</td>\n",
       "      <td>...</td>\n",
       "      <td>...</td>\n",
       "      <td>...</td>\n",
       "      <td>...</td>\n",
       "      <td>...</td>\n",
       "      <td>...</td>\n",
       "    </tr>\n",
       "    <tr>\n",
       "      <th>284802</th>\n",
       "      <td>172786.0</td>\n",
       "      <td>-11.881118</td>\n",
       "      <td>10.071785</td>\n",
       "      <td>-9.834783</td>\n",
       "      <td>-2.066656</td>\n",
       "      <td>-5.364473</td>\n",
       "      <td>-2.606837</td>\n",
       "      <td>-4.918215</td>\n",
       "      <td>7.305334</td>\n",
       "      <td>1.914428</td>\n",
       "      <td>4.356170</td>\n",
       "      <td>-1.593105</td>\n",
       "      <td>2.711941</td>\n",
       "      <td>-0.689256</td>\n",
       "      <td>4.626942</td>\n",
       "      <td>-0.924459</td>\n",
       "      <td>1.107641</td>\n",
       "      <td>1.991691</td>\n",
       "      <td>0.510632</td>\n",
       "      <td>-0.682920</td>\n",
       "      <td>1.475829</td>\n",
       "      <td>0.213454</td>\n",
       "      <td>0.111864</td>\n",
       "      <td>1.014480</td>\n",
       "      <td>-0.509348</td>\n",
       "      <td>1.436807</td>\n",
       "      <td>0.250034</td>\n",
       "      <td>0.943651</td>\n",
       "      <td>0.823731</td>\n",
       "      <td>0.77</td>\n",
       "      <td>0</td>\n",
       "    </tr>\n",
       "    <tr>\n",
       "      <th>284803</th>\n",
       "      <td>172787.0</td>\n",
       "      <td>-0.732789</td>\n",
       "      <td>-0.055080</td>\n",
       "      <td>2.035030</td>\n",
       "      <td>-0.738589</td>\n",
       "      <td>0.868229</td>\n",
       "      <td>1.058415</td>\n",
       "      <td>0.024330</td>\n",
       "      <td>0.294869</td>\n",
       "      <td>0.584800</td>\n",
       "      <td>-0.975926</td>\n",
       "      <td>-0.150189</td>\n",
       "      <td>0.915802</td>\n",
       "      <td>1.214756</td>\n",
       "      <td>-0.675143</td>\n",
       "      <td>1.164931</td>\n",
       "      <td>-0.711757</td>\n",
       "      <td>-0.025693</td>\n",
       "      <td>-1.221179</td>\n",
       "      <td>-1.545556</td>\n",
       "      <td>0.059616</td>\n",
       "      <td>0.214205</td>\n",
       "      <td>0.924384</td>\n",
       "      <td>0.012463</td>\n",
       "      <td>-1.016226</td>\n",
       "      <td>-0.606624</td>\n",
       "      <td>-0.395255</td>\n",
       "      <td>0.068472</td>\n",
       "      <td>-0.053527</td>\n",
       "      <td>24.79</td>\n",
       "      <td>0</td>\n",
       "    </tr>\n",
       "    <tr>\n",
       "      <th>284804</th>\n",
       "      <td>172788.0</td>\n",
       "      <td>1.919565</td>\n",
       "      <td>-0.301254</td>\n",
       "      <td>-3.249640</td>\n",
       "      <td>-0.557828</td>\n",
       "      <td>2.630515</td>\n",
       "      <td>3.031260</td>\n",
       "      <td>-0.296827</td>\n",
       "      <td>0.708417</td>\n",
       "      <td>0.432454</td>\n",
       "      <td>-0.484782</td>\n",
       "      <td>0.411614</td>\n",
       "      <td>0.063119</td>\n",
       "      <td>-0.183699</td>\n",
       "      <td>-0.510602</td>\n",
       "      <td>1.329284</td>\n",
       "      <td>0.140716</td>\n",
       "      <td>0.313502</td>\n",
       "      <td>0.395652</td>\n",
       "      <td>-0.577252</td>\n",
       "      <td>0.001396</td>\n",
       "      <td>0.232045</td>\n",
       "      <td>0.578229</td>\n",
       "      <td>-0.037501</td>\n",
       "      <td>0.640134</td>\n",
       "      <td>0.265745</td>\n",
       "      <td>-0.087371</td>\n",
       "      <td>0.004455</td>\n",
       "      <td>-0.026561</td>\n",
       "      <td>67.88</td>\n",
       "      <td>0</td>\n",
       "    </tr>\n",
       "    <tr>\n",
       "      <th>284805</th>\n",
       "      <td>172788.0</td>\n",
       "      <td>-0.240440</td>\n",
       "      <td>0.530483</td>\n",
       "      <td>0.702510</td>\n",
       "      <td>0.689799</td>\n",
       "      <td>-0.377961</td>\n",
       "      <td>0.623708</td>\n",
       "      <td>-0.686180</td>\n",
       "      <td>0.679145</td>\n",
       "      <td>0.392087</td>\n",
       "      <td>-0.399126</td>\n",
       "      <td>-1.933849</td>\n",
       "      <td>-0.962886</td>\n",
       "      <td>-1.042082</td>\n",
       "      <td>0.449624</td>\n",
       "      <td>1.962563</td>\n",
       "      <td>-0.608577</td>\n",
       "      <td>0.509928</td>\n",
       "      <td>1.113981</td>\n",
       "      <td>2.897849</td>\n",
       "      <td>0.127434</td>\n",
       "      <td>0.265245</td>\n",
       "      <td>0.800049</td>\n",
       "      <td>-0.163298</td>\n",
       "      <td>0.123205</td>\n",
       "      <td>-0.569159</td>\n",
       "      <td>0.546668</td>\n",
       "      <td>0.108821</td>\n",
       "      <td>0.104533</td>\n",
       "      <td>10.00</td>\n",
       "      <td>0</td>\n",
       "    </tr>\n",
       "    <tr>\n",
       "      <th>284806</th>\n",
       "      <td>172792.0</td>\n",
       "      <td>-0.533413</td>\n",
       "      <td>-0.189733</td>\n",
       "      <td>0.703337</td>\n",
       "      <td>-0.506271</td>\n",
       "      <td>-0.012546</td>\n",
       "      <td>-0.649617</td>\n",
       "      <td>1.577006</td>\n",
       "      <td>-0.414650</td>\n",
       "      <td>0.486180</td>\n",
       "      <td>-0.915427</td>\n",
       "      <td>-1.040458</td>\n",
       "      <td>-0.031513</td>\n",
       "      <td>-0.188093</td>\n",
       "      <td>-0.084316</td>\n",
       "      <td>0.041333</td>\n",
       "      <td>-0.302620</td>\n",
       "      <td>-0.660377</td>\n",
       "      <td>0.167430</td>\n",
       "      <td>-0.256117</td>\n",
       "      <td>0.382948</td>\n",
       "      <td>0.261057</td>\n",
       "      <td>0.643078</td>\n",
       "      <td>0.376777</td>\n",
       "      <td>0.008797</td>\n",
       "      <td>-0.473649</td>\n",
       "      <td>-0.818267</td>\n",
       "      <td>-0.002415</td>\n",
       "      <td>0.013649</td>\n",
       "      <td>217.00</td>\n",
       "      <td>0</td>\n",
       "    </tr>\n",
       "  </tbody>\n",
       "</table>\n",
       "<p>284807 rows × 31 columns</p>\n",
       "</div>"
      ],
      "text/plain": [
       "            Time         V1         V2  ...       V28  Amount  Class\n",
       "0            0.0  -1.359807  -0.072781  ... -0.021053  149.62      0\n",
       "1            0.0   1.191857   0.266151  ...  0.014724    2.69      0\n",
       "2            1.0  -1.358354  -1.340163  ... -0.059752  378.66      0\n",
       "3            1.0  -0.966272  -0.185226  ...  0.061458  123.50      0\n",
       "4            2.0  -1.158233   0.877737  ...  0.215153   69.99      0\n",
       "...          ...        ...        ...  ...       ...     ...    ...\n",
       "284802  172786.0 -11.881118  10.071785  ...  0.823731    0.77      0\n",
       "284803  172787.0  -0.732789  -0.055080  ... -0.053527   24.79      0\n",
       "284804  172788.0   1.919565  -0.301254  ... -0.026561   67.88      0\n",
       "284805  172788.0  -0.240440   0.530483  ...  0.104533   10.00      0\n",
       "284806  172792.0  -0.533413  -0.189733  ...  0.013649  217.00      0\n",
       "\n",
       "[284807 rows x 31 columns]"
      ]
     },
     "execution_count": 2,
     "metadata": {},
     "output_type": "execute_result"
    }
   ],
   "source": [
    "df = pd.read_csv(\"creditcard.csv\")\n",
    "df"
   ]
  },
  {
   "cell_type": "markdown",
   "metadata": {
    "id": "hJY__zg-NwWj"
   },
   "source": [
    "**#EDA**"
   ]
  },
  {
   "cell_type": "code",
   "execution_count": null,
   "metadata": {
    "colab": {
     "base_uri": "https://localhost:8080/"
    },
    "id": "2CFL6da3RX65",
    "outputId": "357c1837-ea6e-4182-b9be-fe94baeb2179"
   },
   "outputs": [
    {
     "data": {
      "text/plain": [
       "(284807, 31)"
      ]
     },
     "execution_count": 3,
     "metadata": {},
     "output_type": "execute_result"
    }
   ],
   "source": [
    "df.shape"
   ]
  },
  {
   "cell_type": "code",
   "execution_count": null,
   "metadata": {
    "colab": {
     "base_uri": "https://localhost:8080/"
    },
    "id": "u360V005P-xF",
    "outputId": "99b6a5cd-9738-4311-ec26-5a928109727e"
   },
   "outputs": [
    {
     "name": "stdout",
     "output_type": "stream",
     "text": [
      "<class 'pandas.core.frame.DataFrame'>\n",
      "RangeIndex: 284807 entries, 0 to 284806\n",
      "Data columns (total 31 columns):\n",
      " #   Column  Non-Null Count   Dtype  \n",
      "---  ------  --------------   -----  \n",
      " 0   Time    284807 non-null  float64\n",
      " 1   V1      284807 non-null  float64\n",
      " 2   V2      284807 non-null  float64\n",
      " 3   V3      284807 non-null  float64\n",
      " 4   V4      284807 non-null  float64\n",
      " 5   V5      284807 non-null  float64\n",
      " 6   V6      284807 non-null  float64\n",
      " 7   V7      284807 non-null  float64\n",
      " 8   V8      284807 non-null  float64\n",
      " 9   V9      284807 non-null  float64\n",
      " 10  V10     284807 non-null  float64\n",
      " 11  V11     284807 non-null  float64\n",
      " 12  V12     284807 non-null  float64\n",
      " 13  V13     284807 non-null  float64\n",
      " 14  V14     284807 non-null  float64\n",
      " 15  V15     284807 non-null  float64\n",
      " 16  V16     284807 non-null  float64\n",
      " 17  V17     284807 non-null  float64\n",
      " 18  V18     284807 non-null  float64\n",
      " 19  V19     284807 non-null  float64\n",
      " 20  V20     284807 non-null  float64\n",
      " 21  V21     284807 non-null  float64\n",
      " 22  V22     284807 non-null  float64\n",
      " 23  V23     284807 non-null  float64\n",
      " 24  V24     284807 non-null  float64\n",
      " 25  V25     284807 non-null  float64\n",
      " 26  V26     284807 non-null  float64\n",
      " 27  V27     284807 non-null  float64\n",
      " 28  V28     284807 non-null  float64\n",
      " 29  Amount  284807 non-null  float64\n",
      " 30  Class   284807 non-null  int64  \n",
      "dtypes: float64(30), int64(1)\n",
      "memory usage: 67.4 MB\n"
     ]
    }
   ],
   "source": [
    "df.info()"
   ]
  },
  {
   "cell_type": "markdown",
   "metadata": {
    "id": "_EPX9FyNf5rh"
   },
   "source": [
    "NO null value is present in any of the column and all the data type are in float and int"
   ]
  },
  {
   "cell_type": "code",
   "execution_count": null,
   "metadata": {
    "colab": {
     "base_uri": "https://localhost:8080/"
    },
    "id": "q9dGtKNOBYSD",
    "outputId": "e6c2e945-b5b6-477e-f895-6ea85b9349e4"
   },
   "outputs": [
    {
     "data": {
      "text/plain": [
       "0    284315\n",
       "1       492\n",
       "Name: Class, dtype: int64"
      ]
     },
     "execution_count": 5,
     "metadata": {},
     "output_type": "execute_result"
    }
   ],
   "source": [
    "df['Class'].value_counts()"
   ]
  },
  {
   "cell_type": "code",
   "execution_count": null,
   "metadata": {
    "colab": {
     "base_uri": "https://localhost:8080/",
     "height": 295
    },
    "id": "VPRm-erJBZ2O",
    "outputId": "924af5d9-f4fb-46b0-9c31-c2cdf1e7d264"
   },
   "outputs": [
    {
     "data": {
      "image/png": "[encoded data removed]",
      "text/plain": [
       "<Figure size 432x288 with 1 Axes>"
      ]
     },
     "metadata": {
      "needs_background": "light"
     },
     "output_type": "display_data"
    }
   ],
   "source": [
    "sns.countplot(x='Class', data=df)\n",
    "plt.title('Number of fraudulent vs non-fraudulent transcations')\n",
    "plt.show()"
   ]
  },
  {
   "cell_type": "markdown",
   "metadata": {
    "id": "8EpRJVVpfyh0"
   },
   "source": [
    "data is highly imbalance"
   ]
  },
  {
   "cell_type": "code",
   "execution_count": null,
   "metadata": {
    "id": "lJDD6sKSRqMj"
   },
   "outputs": [],
   "source": [
    "# Creating fraudulent dataframe\n",
    "data_fraud = df[df['Class'] == 1]\n",
    "# Creating non fraudulent dataframe\n",
    "data_non_fraud = df[df['Class'] == 0]"
   ]
  },
  {
   "cell_type": "code",
   "execution_count": null,
   "metadata": {
    "colab": {
     "base_uri": "https://localhost:8080/",
     "height": 433
    },
    "id": "ARS9-andR7Re",
    "outputId": "f11a1e24-ab6f-444a-dc4e-20e59a1f2ec1"
   },
   "outputs": [
    {
     "name": "stderr",
     "output_type": "stream",
     "text": [
      "/usr/local/lib/python3.7/dist-packages/seaborn/distributions.py:2557: FutureWarning: `distplot` is a deprecated function and will be removed in a future version. Please adapt your code to use either `displot` (a figure-level function with similar flexibility) or `kdeplot` (an axes-level function for kernel density plots).\n",
      "  warnings.warn(msg, FutureWarning)\n",
      "/usr/local/lib/python3.7/dist-packages/seaborn/distributions.py:2557: FutureWarning: `distplot` is a deprecated function and will be removed in a future version. Please adapt your code to use either `displot` (a figure-level function with similar flexibility) or `kdeplot` (an axes-level function for kernel density plots).\n",
      "  warnings.warn(msg, FutureWarning)\n"
     ]
    },
    {
     "data": {
      "image/png": "[encoded data removed]",
      "text/plain": [
       "<Figure size 576x360 with 1 Axes>"
      ]
     },
     "metadata": {
      "needs_background": "light"
     },
     "output_type": "display_data"
    }
   ],
   "source": [
    "plt.figure(figsize=(8,5))\n",
    "ax = sns.distplot(data_fraud['Time'],label='fraudulent',hist=False)\n",
    "ax = sns.distplot(data_non_fraud['Time'],label='non fraudulent',hist=False)"
   ]
  },
  {
   "cell_type": "markdown",
   "metadata": {
    "id": "itIMcbDvStrK"
   },
   "source": [
    "We do not see any specific pattern for the fraudulent and non-fraudulent transctions with respect to Time. Hence, we can drop the Time column.\n",
    "\n"
   ]
  },
  {
   "cell_type": "code",
   "execution_count": null,
   "metadata": {
    "id": "0a9azuzsSA_R"
   },
   "outputs": [],
   "source": [
    "df.drop('Time', axis=1, inplace=True)"
   ]
  },
  {
   "cell_type": "code",
   "execution_count": null,
   "metadata": {
    "colab": {
     "base_uri": "https://localhost:8080/",
     "height": 422
    },
    "id": "iXXRoqAYSCLO",
    "outputId": "5767d040-0d6d-4e03-f999-170c1930e5b8"
   },
   "outputs": [
    {
     "name": "stderr",
     "output_type": "stream",
     "text": [
      "/usr/local/lib/python3.7/dist-packages/seaborn/distributions.py:2557: FutureWarning: `distplot` is a deprecated function and will be removed in a future version. Please adapt your code to use either `displot` (a figure-level function with similar flexibility) or `kdeplot` (an axes-level function for kernel density plots).\n",
      "  warnings.warn(msg, FutureWarning)\n",
      "/usr/local/lib/python3.7/dist-packages/seaborn/distributions.py:2557: FutureWarning: `distplot` is a deprecated function and will be removed in a future version. Please adapt your code to use either `displot` (a figure-level function with similar flexibility) or `kdeplot` (an axes-level function for kernel density plots).\n",
      "  warnings.warn(msg, FutureWarning)\n"
     ]
    },
    {
     "data": {
      "image/png": "[encoded data removed]",
      "text/plain": [
       "<Figure size 576x360 with 1 Axes>"
      ]
     },
     "metadata": {
      "needs_background": "light"
     },
     "output_type": "display_data"
    }
   ],
   "source": [
    "plt.figure(figsize=(8,5))\n",
    "ax = sns.distplot(data_fraud['Amount'],label='fraudulent',hist=False)\n",
    "ax = sns.distplot(data_non_fraud['Time'],label='non fraudulent',hist=False)\n",
    "ax.set(xlabel='Transction Amount')\n",
    "plt.show()"
   ]
  },
  {
   "cell_type": "markdown",
   "metadata": {
    "id": "lLuc0Xf1SxDC"
   },
   "source": [
    "We can see that the fraudulent transctions are mostly densed in the lower range of amount, whereas the non-fraudulent transctions are spreaded throughout low to high range of amount."
   ]
  },
  {
   "cell_type": "code",
   "execution_count": null,
   "metadata": {
    "id": "y5CEB_OcUcfP"
   },
   "outputs": [],
   "source": [
    "#Seperate dependent and independent data \n",
    "x = df.drop(\"Class\",axis=1)\n",
    "y = df[\"Class\"]\n"
   ]
  },
  {
   "cell_type": "code",
   "execution_count": null,
   "metadata": {
    "colab": {
     "base_uri": "https://localhost:8080/",
     "height": 336
    },
    "id": "ZdJEo5X_U29A",
    "outputId": "a6d3b5b1-b03e-4276-d6df-db0e03891ad4"
   },
   "outputs": [
    {
     "name": "stderr",
     "output_type": "stream",
     "text": [
      "/usr/local/lib/python3.7/dist-packages/seaborn/_decorators.py:43: FutureWarning: Pass the following variables as keyword args: x, y. From version 0.12, the only valid positional argument will be `data`, and passing other arguments without an explicit keyword will result in an error or misinterpretation.\n",
      "  FutureWarning\n"
     ]
    },
    {
     "data": {
      "text/plain": [
       "<matplotlib.axes._subplots.AxesSubplot at 0x7fa416469bd0>"
      ]
     },
     "execution_count": 12,
     "metadata": {},
     "output_type": "execute_result"
    },
    {
     "data": {
      "image/png": "[encoded data removed]",
      "text/plain": [
       "<Figure size 432x288 with 1 Axes>"
      ]
     },
     "metadata": {
      "needs_background": "light"
     },
     "output_type": "display_data"
    }
   ],
   "source": [
    "#To check how the data points are scatter\n",
    "pc = PCA(n_components=2)\n",
    "components = pc.fit_transform(x,y)\n",
    "pc1 = components[:,0]\n",
    "pc2 = components[:,1]\n",
    "sns.scatterplot(pc1,pc2,hue=y)"
   ]
  },
  {
   "cell_type": "code",
   "execution_count": null,
   "metadata": {
    "id": "wBSFTlP_VAh7"
   },
   "outputs": [],
   "source": [
    "xtrain,xtest,ytrain,ytest=train_test_split(x,y,test_size=0.3,random_state=0)"
   ]
  },
  {
   "cell_type": "markdown",
   "metadata": {
    "id": "NnfMpwXx_ji6"
   },
   "source": [
    "**#OverSampling**"
   ]
  },
  {
   "cell_type": "code",
   "execution_count": null,
   "metadata": {
    "colab": {
     "base_uri": "https://localhost:8080/"
    },
    "id": "IApe-DWwVLva",
    "outputId": "b6876325-7677-45c3-859b-dd408eed6f7c"
   },
   "outputs": [
    {
     "name": "stderr",
     "output_type": "stream",
     "text": [
      "/usr/local/lib/python3.7/dist-packages/sklearn/externals/six.py:31: FutureWarning: The module is deprecated in version 0.21 and will be removed in version 0.23 since we've dropped support for Python 2.7. Please rely on the official version of six (https://pypi.org/project/six/).\n",
      "  \"(https://pypi.org/project/six/).\", FutureWarning)\n",
      "/usr/local/lib/python3.7/dist-packages/sklearn/utils/deprecation.py:144: FutureWarning: The sklearn.neighbors.base module is  deprecated in version 0.22 and will be removed in version 0.24. The corresponding classes / functions should instead be imported from sklearn.neighbors. Anything that cannot be imported from sklearn.neighbors is now part of the private API.\n",
      "  warnings.warn(message, FutureWarning)\n",
      "/usr/local/lib/python3.7/dist-packages/sklearn/utils/deprecation.py:87: FutureWarning: Function safe_indexing is deprecated; safe_indexing is deprecated in version 0.22 and will be removed in version 0.24.\n",
      "  warnings.warn(msg, category=FutureWarning)\n"
     ]
    }
   ],
   "source": [
    "from imblearn.over_sampling import RandomOverSampler,SMOTE\n",
    "ros= RandomOverSampler(random_state=1)\n",
    "xsample1,ysample1 = ros.fit_resample(xtrain,ytrain)"
   ]
  },
  {
   "cell_type": "code",
   "execution_count": null,
   "metadata": {
    "colab": {
     "base_uri": "https://localhost:8080/"
    },
    "id": "ZYNhL_6QVV2i",
    "outputId": "30f8c6d6-db5d-4bc6-c95d-54eb34896ca7"
   },
   "outputs": [
    {
     "data": {
      "text/plain": [
       "1    199019\n",
       "0    199019\n",
       "dtype: int64"
      ]
     },
     "execution_count": 15,
     "metadata": {},
     "output_type": "execute_result"
    }
   ],
   "source": [
    "pd.Series(ysample1).value_counts()"
   ]
  },
  {
   "cell_type": "code",
   "execution_count": null,
   "metadata": {
    "id": "5tQWSARPVYsU"
   },
   "outputs": [],
   "source": [
    "ss = StandardScaler()\n",
    "\n",
    "X_train_ss1 = ss.fit_transform(xsample1)\n",
    "X_test_ss = ss.transform(xtest)"
   ]
  },
  {
   "cell_type": "code",
   "execution_count": null,
   "metadata": {
    "colab": {
     "base_uri": "https://localhost:8080/"
    },
    "id": "wNR9N3EOVbPb",
    "outputId": "3ac41479-5976-4813-959d-9d9876c1b3ef"
   },
   "outputs": [
    {
     "name": "stdout",
     "output_type": "stream",
     "text": [
      "Epoch 1/50\n",
      "12439/12439 [==============================] - 18s 1ms/step - loss: 0.0848\n",
      "Epoch 2/50\n",
      "12439/12439 [==============================] - 17s 1ms/step - loss: 0.0161\n",
      "Epoch 3/50\n",
      "12439/12439 [==============================] - 17s 1ms/step - loss: 0.0086\n",
      "Epoch 4/50\n",
      "12439/12439 [==============================] - 17s 1ms/step - loss: 0.0061\n",
      "Epoch 5/50\n",
      "12439/12439 [==============================] - 17s 1ms/step - loss: 0.0047\n",
      "Epoch 6/50\n",
      "12439/12439 [==============================] - 17s 1ms/step - loss: 0.0038\n",
      "Epoch 7/50\n",
      "12439/12439 [==============================] - 17s 1ms/step - loss: 0.0031\n",
      "Epoch 8/50\n",
      "12439/12439 [==============================] - 17s 1ms/step - loss: 0.0026\n",
      "Epoch 9/50\n",
      "12439/12439 [==============================] - 17s 1ms/step - loss: 0.0022\n",
      "Epoch 10/50\n",
      "12439/12439 [==============================] - 17s 1ms/step - loss: 0.0020\n",
      "Epoch 11/50\n",
      "12439/12439 [==============================] - 17s 1ms/step - loss: 0.0021\n",
      "Epoch 12/50\n",
      "12439/12439 [==============================] - 17s 1ms/step - loss: 0.0018\n",
      "Epoch 13/50\n",
      "12439/12439 [==============================] - 17s 1ms/step - loss: 0.0014\n",
      "Epoch 14/50\n",
      "12439/12439 [==============================] - 17s 1ms/step - loss: 0.0013\n",
      "Epoch 15/50\n",
      "12439/12439 [==============================] - 17s 1ms/step - loss: 0.0012\n",
      "Epoch 16/50\n",
      "12439/12439 [==============================] - 17s 1ms/step - loss: 0.0011\n",
      "Epoch 17/50\n",
      "12439/12439 [==============================] - 17s 1ms/step - loss: 0.0010\n",
      "Epoch 18/50\n",
      "12439/12439 [==============================] - 17s 1ms/step - loss: 0.0010\n",
      "Epoch 19/50\n",
      "12439/12439 [==============================] - 18s 1ms/step - loss: 8.8084e-04\n",
      "Epoch 20/50\n",
      "12439/12439 [==============================] - 17s 1ms/step - loss: 9.2054e-04\n",
      "Epoch 21/50\n",
      "12439/12439 [==============================] - 17s 1ms/step - loss: 8.1213e-04\n",
      "Epoch 22/50\n",
      "12439/12439 [==============================] - 17s 1ms/step - loss: 7.3615e-04\n",
      "Epoch 23/50\n",
      "12439/12439 [==============================] - 17s 1ms/step - loss: 7.2147e-04\n",
      "Epoch 24/50\n",
      "12439/12439 [==============================] - 17s 1ms/step - loss: 7.0579e-04\n",
      "Epoch 25/50\n",
      "12439/12439 [==============================] - 17s 1ms/step - loss: 6.4716e-04\n",
      "Epoch 26/50\n",
      "12439/12439 [==============================] - 17s 1ms/step - loss: 6.6684e-04\n",
      "Epoch 27/50\n",
      "12439/12439 [==============================] - 17s 1ms/step - loss: 5.9368e-04\n",
      "Epoch 28/50\n",
      "12439/12439 [==============================] - 17s 1ms/step - loss: 5.6939e-04\n",
      "Epoch 29/50\n",
      "12439/12439 [==============================] - 17s 1ms/step - loss: 5.4048e-04\n",
      "Epoch 30/50\n",
      "12439/12439 [==============================] - 17s 1ms/step - loss: 6.0256e-04\n",
      "Epoch 31/50\n",
      "12439/12439 [==============================] - 17s 1ms/step - loss: 7.9183e-04\n",
      "Epoch 32/50\n",
      "12439/12439 [==============================] - 17s 1ms/step - loss: 5.0501e-04\n",
      "Epoch 33/50\n",
      "12439/12439 [==============================] - 17s 1ms/step - loss: 4.6126e-04\n",
      "Epoch 34/50\n",
      "12439/12439 [==============================] - 17s 1ms/step - loss: 4.2304e-04\n",
      "Epoch 35/50\n",
      "12439/12439 [==============================] - 17s 1ms/step - loss: 4.4689e-04\n",
      "Epoch 36/50\n",
      "12439/12439 [==============================] - 17s 1ms/step - loss: 5.6039e-04\n",
      "Epoch 37/50\n",
      "12439/12439 [==============================] - 17s 1ms/step - loss: 7.0931e-04\n",
      "Epoch 38/50\n",
      "12439/12439 [==============================] - 17s 1ms/step - loss: 4.8316e-04\n",
      "Epoch 39/50\n",
      "12439/12439 [==============================] - 17s 1ms/step - loss: 3.8269e-04\n",
      "Epoch 40/50\n",
      "12439/12439 [==============================] - 17s 1ms/step - loss: 4.1415e-04\n",
      "Epoch 41/50\n",
      "12439/12439 [==============================] - 17s 1ms/step - loss: 3.8331e-04\n",
      "Epoch 42/50\n",
      "12439/12439 [==============================] - 17s 1ms/step - loss: 3.9624e-04\n",
      "Epoch 43/50\n",
      "12439/12439 [==============================] - 17s 1ms/step - loss: 3.7301e-04\n",
      "Epoch 44/50\n",
      "12439/12439 [==============================] - 17s 1ms/step - loss: 3.5619e-04\n",
      "Epoch 45/50\n",
      "12439/12439 [==============================] - 17s 1ms/step - loss: 3.5758e-04\n",
      "Epoch 46/50\n",
      "12439/12439 [==============================] - 17s 1ms/step - loss: 3.3221e-04\n",
      "Epoch 47/50\n",
      "12439/12439 [==============================] - 17s 1ms/step - loss: 3.3280e-04\n",
      "Epoch 48/50\n",
      "12439/12439 [==============================] - 17s 1ms/step - loss: 3.2282e-04\n",
      "Epoch 49/50\n",
      "12439/12439 [==============================] - 17s 1ms/step - loss: 3.3823e-04\n",
      "Epoch 50/50\n",
      "12439/12439 [==============================] - 17s 1ms/step - loss: 3.7109e-04\n"
     ]
    }
   ],
   "source": [
    "model1 = Sequential()\n",
    "model1.add(Dense(64, input_dim=29, activation=\"relu\"))\n",
    "model1.add(Dense(64,activation=\"relu\"))\n",
    "model1.add(Dense(64,activation=\"relu\"))\n",
    "\n",
    "\n",
    "model1.add(Dense(1,activation=\"sigmoid\"))\n",
    "model1.compile(optimizer=\"sgd\",loss=\"binary_crossentropy\")\n",
    "trained_model1 = model1.fit(X_train_ss1,ysample1,epochs=50,batch_size=32)"
   ]
  },
  {
   "cell_type": "code",
   "execution_count": null,
   "metadata": {
    "colab": {
     "base_uri": "https://localhost:8080/",
     "height": 282
    },
    "id": "BYOsRHrIWCq5",
    "outputId": "b7950287-9b34-4858-dc79-da8b9e56c680"
   },
   "outputs": [
    {
     "data": {
      "text/plain": [
       "[<matplotlib.lines.Line2D at 0x7fa4162a5790>]"
      ]
     },
     "execution_count": 18,
     "metadata": {},
     "output_type": "execute_result"
    },
    {
     "data": {
      "image/png": "[encoded data removed]",
      "text/plain": [
       "<Figure size 432x288 with 1 Axes>"
      ]
     },
     "metadata": {
      "needs_background": "light"
     },
     "output_type": "display_data"
    }
   ],
   "source": [
    "plt.plot(trained_model1.history['loss'])"
   ]
  },
  {
   "cell_type": "code",
   "execution_count": null,
   "metadata": {
    "id": "mp7N4EvVWFK-"
   },
   "outputs": [],
   "source": [
    "y_pred1 = model1.predict(X_test_ss)"
   ]
  },
  {
   "cell_type": "code",
   "execution_count": null,
   "metadata": {
    "id": "GpEdNZYAWMP8"
   },
   "outputs": [],
   "source": [
    "y_pred1 = np.where(y_pred1 >= 0.5,1,0)"
   ]
  },
  {
   "cell_type": "code",
   "execution_count": null,
   "metadata": {
    "colab": {
     "base_uri": "https://localhost:8080/"
    },
    "id": "xdScMbePWOdz",
    "outputId": "22ce5053-79b2-4d0e-f468-8f156ecec768"
   },
   "outputs": [
    {
     "name": "stdout",
     "output_type": "stream",
     "text": [
      "              precision    recall  f1-score   support\n",
      "\n",
      "           0       1.00      1.00      1.00     85296\n",
      "           1       0.80      0.80      0.80       147\n",
      "\n",
      "    accuracy                           1.00     85443\n",
      "   macro avg       0.90      0.90      0.90     85443\n",
      "weighted avg       1.00      1.00      1.00     85443\n",
      "\n"
     ]
    }
   ],
   "source": [
    "print(f\"{classification_report(ytest,y_pred1)}\")"
   ]
  },
  {
   "cell_type": "markdown",
   "metadata": {
    "id": "2SiFHZQ5KNem"
   },
   "source": [
    "**#SMOTE**"
   ]
  },
  {
   "cell_type": "code",
   "execution_count": null,
   "metadata": {
    "colab": {
     "base_uri": "https://localhost:8080/"
    },
    "id": "VSDKZYxpKSGu",
    "outputId": "7543bb3c-5c6e-47f1-c1ab-a4fc68a90f74"
   },
   "outputs": [
    {
     "name": "stderr",
     "output_type": "stream",
     "text": [
      "/usr/local/lib/python3.7/dist-packages/sklearn/utils/deprecation.py:87: FutureWarning: Function safe_indexing is deprecated; safe_indexing is deprecated in version 0.22 and will be removed in version 0.24.\n",
      "  warnings.warn(msg, category=FutureWarning)\n"
     ]
    }
   ],
   "source": [
    "oversample = SMOTE()\n",
    "xsample2,ysample2 = oversample.fit_resample(xtrain,ytrain)\n"
   ]
  },
  {
   "cell_type": "code",
   "execution_count": null,
   "metadata": {
    "colab": {
     "base_uri": "https://localhost:8080/"
    },
    "id": "VCwRRVX4Kh_J",
    "outputId": "8280b8d8-a2f4-4bb2-81a2-c9843f76d662"
   },
   "outputs": [
    {
     "data": {
      "text/plain": [
       "1    199019\n",
       "0    199019\n",
       "dtype: int64"
      ]
     },
     "execution_count": 24,
     "metadata": {},
     "output_type": "execute_result"
    }
   ],
   "source": [
    "pd.Series(ysample2).value_counts()"
   ]
  },
  {
   "cell_type": "code",
   "execution_count": null,
   "metadata": {
    "id": "aoe8NwbxKsks"
   },
   "outputs": [],
   "source": [
    "X_train_ss2 = ss.fit_transform(xsample2)"
   ]
  },
  {
   "cell_type": "code",
   "execution_count": null,
   "metadata": {
    "colab": {
     "base_uri": "https://localhost:8080/"
    },
    "id": "jlfCKP6rKw0P",
    "outputId": "12885416-2c1f-4e2b-874f-d75874442fcf"
   },
   "outputs": [
    {
     "name": "stdout",
     "output_type": "stream",
     "text": [
      "Epoch 1/50\n",
      "12439/12439 [==============================] - 29s 2ms/step - loss: 0.0170\n",
      "Epoch 2/50\n",
      "12439/12439 [==============================] - 28s 2ms/step - loss: 0.0058\n",
      "Epoch 3/50\n",
      "12439/12439 [==============================] - 27s 2ms/step - loss: 0.0040\n",
      "Epoch 4/50\n",
      "12439/12439 [==============================] - 27s 2ms/step - loss: 0.0036\n",
      "Epoch 5/50\n",
      "12439/12439 [==============================] - 28s 2ms/step - loss: 0.0032\n",
      "Epoch 6/50\n",
      "12439/12439 [==============================] - 28s 2ms/step - loss: 0.0034\n",
      "Epoch 7/50\n",
      "12439/12439 [==============================] - 28s 2ms/step - loss: 0.0026\n",
      "Epoch 8/50\n",
      "12439/12439 [==============================] - 28s 2ms/step - loss: 0.0027\n",
      "Epoch 9/50\n",
      "12439/12439 [==============================] - 28s 2ms/step - loss: 0.0024\n",
      "Epoch 10/50\n",
      "12439/12439 [==============================] - 28s 2ms/step - loss: 0.0024\n",
      "Epoch 11/50\n",
      "12439/12439 [==============================] - 28s 2ms/step - loss: 0.0027\n",
      "Epoch 12/50\n",
      "12439/12439 [==============================] - 28s 2ms/step - loss: 0.0024\n",
      "Epoch 13/50\n",
      "12439/12439 [==============================] - 28s 2ms/step - loss: 0.0019\n",
      "Epoch 14/50\n",
      "12439/12439 [==============================] - 28s 2ms/step - loss: 0.0038\n",
      "Epoch 15/50\n",
      "12439/12439 [==============================] - 28s 2ms/step - loss: 0.0020\n",
      "Epoch 16/50\n",
      "12439/12439 [==============================] - 28s 2ms/step - loss: 0.0020\n",
      "Epoch 17/50\n",
      "12439/12439 [==============================] - 28s 2ms/step - loss: 0.0021\n",
      "Epoch 18/50\n",
      "12439/12439 [==============================] - 27s 2ms/step - loss: 0.0018\n",
      "Epoch 19/50\n",
      "12439/12439 [==============================] - 27s 2ms/step - loss: 0.0020\n",
      "Epoch 20/50\n",
      "12439/12439 [==============================] - 27s 2ms/step - loss: 0.0025\n",
      "Epoch 21/50\n",
      "12439/12439 [==============================] - 27s 2ms/step - loss: 0.0015\n",
      "Epoch 22/50\n",
      "12439/12439 [==============================] - 27s 2ms/step - loss: 0.0028\n",
      "Epoch 23/50\n",
      "12439/12439 [==============================] - 28s 2ms/step - loss: 0.0024\n",
      "Epoch 24/50\n",
      "12439/12439 [==============================] - 27s 2ms/step - loss: 0.0014\n",
      "Epoch 25/50\n",
      "12439/12439 [==============================] - 27s 2ms/step - loss: 0.0017\n",
      "Epoch 26/50\n",
      "12439/12439 [==============================] - 27s 2ms/step - loss: 0.0014\n",
      "Epoch 27/50\n",
      "12439/12439 [==============================] - 27s 2ms/step - loss: 0.0019\n",
      "Epoch 28/50\n",
      "12439/12439 [==============================] - 27s 2ms/step - loss: 0.0030\n",
      "Epoch 29/50\n",
      "12439/12439 [==============================] - 27s 2ms/step - loss: 0.0018\n",
      "Epoch 30/50\n",
      "12439/12439 [==============================] - 27s 2ms/step - loss: 0.0015\n",
      "Epoch 31/50\n",
      "12439/12439 [==============================] - 27s 2ms/step - loss: 0.0012\n",
      "Epoch 32/50\n",
      "12439/12439 [==============================] - 27s 2ms/step - loss: 0.0022\n",
      "Epoch 33/50\n",
      "12439/12439 [==============================] - 27s 2ms/step - loss: 0.0024\n",
      "Epoch 34/50\n",
      "12439/12439 [==============================] - 28s 2ms/step - loss: 0.0016\n",
      "Epoch 35/50\n",
      "12439/12439 [==============================] - 28s 2ms/step - loss: 0.0011\n",
      "Epoch 36/50\n",
      "12439/12439 [==============================] - 27s 2ms/step - loss: 9.6957e-04\n",
      "Epoch 37/50\n",
      "12439/12439 [==============================] - 28s 2ms/step - loss: 0.0017\n",
      "Epoch 38/50\n",
      "12439/12439 [==============================] - 28s 2ms/step - loss: 0.0042\n",
      "Epoch 39/50\n",
      "12439/12439 [==============================] - 27s 2ms/step - loss: 9.2898e-04\n",
      "Epoch 40/50\n",
      "12439/12439 [==============================] - 27s 2ms/step - loss: 0.0010\n",
      "Epoch 41/50\n",
      "12439/12439 [==============================] - 27s 2ms/step - loss: 0.0010\n",
      "Epoch 42/50\n",
      "12439/12439 [==============================] - 27s 2ms/step - loss: 0.0106\n",
      "Epoch 43/50\n",
      "12439/12439 [==============================] - 27s 2ms/step - loss: 0.0015\n",
      "Epoch 44/50\n",
      "12439/12439 [==============================] - 27s 2ms/step - loss: 0.0011\n",
      "Epoch 45/50\n",
      "12439/12439 [==============================] - 27s 2ms/step - loss: 9.6446e-04\n",
      "Epoch 46/50\n",
      "12439/12439 [==============================] - 27s 2ms/step - loss: 0.0015\n",
      "Epoch 47/50\n",
      "12439/12439 [==============================] - 27s 2ms/step - loss: 9.1606e-04\n",
      "Epoch 48/50\n",
      "12439/12439 [==============================] - 27s 2ms/step - loss: 0.0010\n",
      "Epoch 49/50\n",
      "12439/12439 [==============================] - 27s 2ms/step - loss: 0.0028\n",
      "Epoch 50/50\n",
      "12439/12439 [==============================] - 27s 2ms/step - loss: 5.6308e-04\n"
     ]
    }
   ],
   "source": [
    "model2 = Sequential()\n",
    "model2.add(Dense(128, input_dim=29, activation=\"relu\"))\n",
    "model2.add(Dense(128,activation=\"relu\"))\n",
    "model2.add(Dense(128,activation=\"relu\"))\n",
    "model2.add(Dense(128,activation=\"relu\"))\n",
    "model2.add(Dense(1,activation=\"sigmoid\"))\n",
    "model2.compile(optimizer=\"adam\",loss=\"binary_crossentropy\")\n",
    "trained_model2 = model2.fit(X_train_ss2,ysample2,epochs=50)"
   ]
  },
  {
   "cell_type": "code",
   "execution_count": null,
   "metadata": {
    "colab": {
     "base_uri": "https://localhost:8080/",
     "height": 283
    },
    "id": "1eCDx4NVK09e",
    "outputId": "d651b204-5a72-4a71-ac4c-ea5a3df96f52"
   },
   "outputs": [
    {
     "data": {
      "text/plain": [
       "[<matplotlib.lines.Line2D at 0x7fa4094b1890>]"
      ]
     },
     "execution_count": 42,
     "metadata": {},
     "output_type": "execute_result"
    },
    {
     "data": {
      "image/png": "[encoded data removed]",
      "text/plain": [
       "<Figure size 432x288 with 1 Axes>"
      ]
     },
     "metadata": {
      "needs_background": "light"
     },
     "output_type": "display_data"
    }
   ],
   "source": [
    "plt.plot(trained_model2.history['loss'])"
   ]
  },
  {
   "cell_type": "code",
   "execution_count": null,
   "metadata": {
    "colab": {
     "base_uri": "https://localhost:8080/"
    },
    "id": "QmPHdc3gK363",
    "outputId": "2e68f5a0-108f-4fdf-eeb7-35cfd6cd8a8e"
   },
   "outputs": [
    {
     "name": "stdout",
     "output_type": "stream",
     "text": [
      "              precision    recall  f1-score   support\n",
      "\n",
      "           0       1.00      1.00      1.00     85296\n",
      "           1       0.78      0.75      0.76       147\n",
      "\n",
      "    accuracy                           1.00     85443\n",
      "   macro avg       0.89      0.87      0.88     85443\n",
      "weighted avg       1.00      1.00      1.00     85443\n",
      "\n"
     ]
    }
   ],
   "source": [
    "y_pred2 = model2.predict(X_test_ss)\n",
    "y_pred2 = np.where(y_pred2 >= 0.5,1,0)\n",
    "print(f\"{classification_report(ytest,y_pred2)}\")"
   ]
  },
  {
   "cell_type": "markdown",
   "metadata": {
    "id": "AeSxZJjmBz9A"
   },
   "source": [
    "**#UnderSampling**"
   ]
  },
  {
   "cell_type": "code",
   "execution_count": null,
   "metadata": {
    "colab": {
     "base_uri": "https://localhost:8080/"
    },
    "id": "SsXu8-ZNBzal",
    "outputId": "659ab7eb-43f5-4f78-92f2-ab97a097b33f"
   },
   "outputs": [
    {
     "name": "stderr",
     "output_type": "stream",
     "text": [
      "/usr/local/lib/python3.7/dist-packages/sklearn/utils/deprecation.py:87: FutureWarning: Function safe_indexing is deprecated; safe_indexing is deprecated in version 0.22 and will be removed in version 0.24.\n",
      "  warnings.warn(msg, category=FutureWarning)\n"
     ]
    }
   ],
   "source": [
    "from imblearn.under_sampling import RandomUnderSampler\n",
    "rus= RandomUnderSampler(random_state=1)\n",
    "xsample3,ysample3 = rus.fit_resample(xtrain,ytrain)"
   ]
  },
  {
   "cell_type": "code",
   "execution_count": null,
   "metadata": {
    "colab": {
     "base_uri": "https://localhost:8080/"
    },
    "id": "plJ6AuMcUGU7",
    "outputId": "f3f40b24-39a6-434e-e042-086a9816f3a1"
   },
   "outputs": [
    {
     "data": {
      "text/plain": [
       "1    345\n",
       "0    345\n",
       "dtype: int64"
      ]
     },
     "execution_count": 30,
     "metadata": {},
     "output_type": "execute_result"
    }
   ],
   "source": [
    "pd.Series(ysample3).value_counts()"
   ]
  },
  {
   "cell_type": "code",
   "execution_count": null,
   "metadata": {
    "id": "vOabtz78UIMe"
   },
   "outputs": [],
   "source": [
    "X_train_ss3 = ss.fit_transform(xsample3)"
   ]
  },
  {
   "cell_type": "code",
   "execution_count": null,
   "metadata": {
    "colab": {
     "base_uri": "https://localhost:8080/"
    },
    "id": "O4HMFbYSVuNo",
    "outputId": "f06d845d-28f1-4e70-dc9c-399a82edcf37"
   },
   "outputs": [
    {
     "name": "stdout",
     "output_type": "stream",
     "text": [
      "Epoch 1/80\n",
      "22/22 [==============================] - 0s 2ms/step - loss: 0.5541\n",
      "Epoch 2/80\n",
      "22/22 [==============================] - 0s 2ms/step - loss: 0.3904\n",
      "Epoch 3/80\n",
      "22/22 [==============================] - 0s 2ms/step - loss: 0.3061\n",
      "Epoch 4/80\n",
      "22/22 [==============================] - 0s 2ms/step - loss: 0.2610\n",
      "Epoch 5/80\n",
      "22/22 [==============================] - 0s 2ms/step - loss: 0.2324\n",
      "Epoch 6/80\n",
      "22/22 [==============================] - 0s 2ms/step - loss: 0.2091\n",
      "Epoch 7/80\n",
      "22/22 [==============================] - 0s 2ms/step - loss: 0.1920\n",
      "Epoch 8/80\n",
      "22/22 [==============================] - 0s 2ms/step - loss: 0.1784\n",
      "Epoch 9/80\n",
      "22/22 [==============================] - 0s 2ms/step - loss: 0.1675\n",
      "Epoch 10/80\n",
      "22/22 [==============================] - 0s 2ms/step - loss: 0.1595\n",
      "Epoch 11/80\n",
      "22/22 [==============================] - 0s 2ms/step - loss: 0.1509\n",
      "Epoch 12/80\n",
      "22/22 [==============================] - 0s 2ms/step - loss: 0.1440\n",
      "Epoch 13/80\n",
      "22/22 [==============================] - 0s 2ms/step - loss: 0.1387\n",
      "Epoch 14/80\n",
      "22/22 [==============================] - 0s 2ms/step - loss: 0.1336\n",
      "Epoch 15/80\n",
      "22/22 [==============================] - 0s 2ms/step - loss: 0.1306\n",
      "Epoch 16/80\n",
      "22/22 [==============================] - 0s 2ms/step - loss: 0.1260\n",
      "Epoch 17/80\n",
      "22/22 [==============================] - 0s 2ms/step - loss: 0.1224\n",
      "Epoch 18/80\n",
      "22/22 [==============================] - 0s 2ms/step - loss: 0.1218\n",
      "Epoch 19/80\n",
      "22/22 [==============================] - 0s 2ms/step - loss: 0.1192\n",
      "Epoch 20/80\n",
      "22/22 [==============================] - 0s 2ms/step - loss: 0.1154\n",
      "Epoch 21/80\n",
      "22/22 [==============================] - 0s 2ms/step - loss: 0.1148\n",
      "Epoch 22/80\n",
      "22/22 [==============================] - 0s 2ms/step - loss: 0.1112\n",
      "Epoch 23/80\n",
      "22/22 [==============================] - 0s 2ms/step - loss: 0.1081\n",
      "Epoch 24/80\n",
      "22/22 [==============================] - 0s 2ms/step - loss: 0.1071\n",
      "Epoch 25/80\n",
      "22/22 [==============================] - 0s 2ms/step - loss: 0.1044\n",
      "Epoch 26/80\n",
      "22/22 [==============================] - 0s 2ms/step - loss: 0.1021\n",
      "Epoch 27/80\n",
      "22/22 [==============================] - 0s 2ms/step - loss: 0.0990\n",
      "Epoch 28/80\n",
      "22/22 [==============================] - 0s 2ms/step - loss: 0.0982\n",
      "Epoch 29/80\n",
      "22/22 [==============================] - 0s 2ms/step - loss: 0.0962\n",
      "Epoch 30/80\n",
      "22/22 [==============================] - 0s 2ms/step - loss: 0.0997\n",
      "Epoch 31/80\n",
      "22/22 [==============================] - 0s 2ms/step - loss: 0.0950\n",
      "Epoch 32/80\n",
      "22/22 [==============================] - 0s 2ms/step - loss: 0.0912\n",
      "Epoch 33/80\n",
      "22/22 [==============================] - 0s 2ms/step - loss: 0.0905\n",
      "Epoch 34/80\n",
      "22/22 [==============================] - 0s 2ms/step - loss: 0.0904\n",
      "Epoch 35/80\n",
      "22/22 [==============================] - 0s 2ms/step - loss: 0.0879\n",
      "Epoch 36/80\n",
      "22/22 [==============================] - 0s 2ms/step - loss: 0.0846\n",
      "Epoch 37/80\n",
      "22/22 [==============================] - 0s 2ms/step - loss: 0.0835\n",
      "Epoch 38/80\n",
      "22/22 [==============================] - 0s 2ms/step - loss: 0.0821\n",
      "Epoch 39/80\n",
      "22/22 [==============================] - 0s 2ms/step - loss: 0.0826\n",
      "Epoch 40/80\n",
      "22/22 [==============================] - 0s 2ms/step - loss: 0.0810\n",
      "Epoch 41/80\n",
      "22/22 [==============================] - 0s 2ms/step - loss: 0.0770\n",
      "Epoch 42/80\n",
      "22/22 [==============================] - 0s 2ms/step - loss: 0.0764\n",
      "Epoch 43/80\n",
      "22/22 [==============================] - 0s 2ms/step - loss: 0.0753\n",
      "Epoch 44/80\n",
      "22/22 [==============================] - 0s 2ms/step - loss: 0.0725\n",
      "Epoch 45/80\n",
      "22/22 [==============================] - 0s 2ms/step - loss: 0.0702\n",
      "Epoch 46/80\n",
      "22/22 [==============================] - 0s 2ms/step - loss: 0.0702\n",
      "Epoch 47/80\n",
      "22/22 [==============================] - 0s 2ms/step - loss: 0.0674\n",
      "Epoch 48/80\n",
      "22/22 [==============================] - 0s 2ms/step - loss: 0.0669\n",
      "Epoch 49/80\n",
      "22/22 [==============================] - 0s 2ms/step - loss: 0.0643\n",
      "Epoch 50/80\n",
      "22/22 [==============================] - 0s 2ms/step - loss: 0.0631\n",
      "Epoch 51/80\n",
      "22/22 [==============================] - 0s 2ms/step - loss: 0.0612\n",
      "Epoch 52/80\n",
      "22/22 [==============================] - 0s 2ms/step - loss: 0.0605\n",
      "Epoch 53/80\n",
      "22/22 [==============================] - 0s 2ms/step - loss: 0.0590\n",
      "Epoch 54/80\n",
      "22/22 [==============================] - 0s 2ms/step - loss: 0.0574\n",
      "Epoch 55/80\n",
      "22/22 [==============================] - 0s 2ms/step - loss: 0.0554\n",
      "Epoch 56/80\n",
      "22/22 [==============================] - 0s 2ms/step - loss: 0.0582\n",
      "Epoch 57/80\n",
      "22/22 [==============================] - 0s 2ms/step - loss: 0.0552\n",
      "Epoch 58/80\n",
      "22/22 [==============================] - 0s 1ms/step - loss: 0.0518\n",
      "Epoch 59/80\n",
      "22/22 [==============================] - 0s 2ms/step - loss: 0.0500\n",
      "Epoch 60/80\n",
      "22/22 [==============================] - 0s 2ms/step - loss: 0.0523\n",
      "Epoch 61/80\n",
      "22/22 [==============================] - 0s 2ms/step - loss: 0.0552\n",
      "Epoch 62/80\n",
      "22/22 [==============================] - 0s 2ms/step - loss: 0.0501\n",
      "Epoch 63/80\n",
      "22/22 [==============================] - 0s 2ms/step - loss: 0.0485\n",
      "Epoch 64/80\n",
      "22/22 [==============================] - 0s 2ms/step - loss: 0.0456\n",
      "Epoch 65/80\n",
      "22/22 [==============================] - 0s 2ms/step - loss: 0.0435\n",
      "Epoch 66/80\n",
      "22/22 [==============================] - 0s 2ms/step - loss: 0.0422\n",
      "Epoch 67/80\n",
      "22/22 [==============================] - 0s 2ms/step - loss: 0.0413\n",
      "Epoch 68/80\n",
      "22/22 [==============================] - 0s 2ms/step - loss: 0.0399\n",
      "Epoch 69/80\n",
      "22/22 [==============================] - 0s 2ms/step - loss: 0.0386\n",
      "Epoch 70/80\n",
      "22/22 [==============================] - 0s 2ms/step - loss: 0.0375\n",
      "Epoch 71/80\n",
      "22/22 [==============================] - 0s 2ms/step - loss: 0.0383\n",
      "Epoch 72/80\n",
      "22/22 [==============================] - 0s 2ms/step - loss: 0.0363\n",
      "Epoch 73/80\n",
      "22/22 [==============================] - 0s 2ms/step - loss: 0.0340\n",
      "Epoch 74/80\n",
      "22/22 [==============================] - 0s 2ms/step - loss: 0.0334\n",
      "Epoch 75/80\n",
      "22/22 [==============================] - 0s 2ms/step - loss: 0.0326\n",
      "Epoch 76/80\n",
      "22/22 [==============================] - 0s 2ms/step - loss: 0.0307\n",
      "Epoch 77/80\n",
      "22/22 [==============================] - 0s 2ms/step - loss: 0.0302\n",
      "Epoch 78/80\n",
      "22/22 [==============================] - 0s 2ms/step - loss: 0.0304\n",
      "Epoch 79/80\n",
      "22/22 [==============================] - 0s 2ms/step - loss: 0.0302\n",
      "Epoch 80/80\n",
      "22/22 [==============================] - 0s 2ms/step - loss: 0.0291\n"
     ]
    }
   ],
   "source": [
    "model3 = Sequential()\n",
    "model3.add(Dense(32, input_dim=29, activation=\"relu\"))\n",
    "model3.add(Dense(32,activation=\"relu\"))\n",
    "\n",
    "model3.add(Dense(1,activation=\"sigmoid\"))\n",
    "model3.compile(optimizer=\"adam\",loss=\"binary_crossentropy\")\n",
    "trained_model3 = model3.fit(X_train_ss3,ysample3,epochs=80)"
   ]
  },
  {
   "cell_type": "code",
   "execution_count": null,
   "metadata": {
    "colab": {
     "base_uri": "https://localhost:8080/",
     "height": 282
    },
    "id": "Cklcga8zVn4k",
    "outputId": "51edf2e0-d26a-4d99-96ad-a6690d02892a"
   },
   "outputs": [
    {
     "data": {
      "text/plain": [
       "[<matplotlib.lines.Line2D at 0x7fa41512db10>]"
      ]
     },
     "execution_count": 45,
     "metadata": {},
     "output_type": "execute_result"
    },
    {
     "data": {
      "image/png": "[encoded data removed]",
      "text/plain": [
       "<Figure size 432x288 with 1 Axes>"
      ]
     },
     "metadata": {
      "needs_background": "light"
     },
     "output_type": "display_data"
    }
   ],
   "source": [
    "plt.plot(trained_model3.history['loss'])"
   ]
  },
  {
   "cell_type": "code",
   "execution_count": null,
   "metadata": {
    "colab": {
     "base_uri": "https://localhost:8080/"
    },
    "id": "2qzQvDedWXqt",
    "outputId": "b3249428-8cea-448c-d427-7191091aed49"
   },
   "outputs": [
    {
     "name": "stdout",
     "output_type": "stream",
     "text": [
      "              precision    recall  f1-score   support\n",
      "\n",
      "           0       1.00      0.93      0.96     85296\n",
      "           1       0.02      0.95      0.05       147\n",
      "\n",
      "    accuracy                           0.93     85443\n",
      "   macro avg       0.51      0.94      0.50     85443\n",
      "weighted avg       1.00      0.93      0.96     85443\n",
      "\n"
     ]
    }
   ],
   "source": [
    "y_pred3 = model3.predict(X_test_ss)\n",
    "y_pred3 = np.where(y_pred3 >= 0.5,1,0)\n",
    "print(f\"{classification_report(ytest,y_pred3)}\")"
   ]
  },
  {
   "cell_type": "markdown",
   "metadata": {
    "id": "_KS56LkMknRr"
   },
   "source": [
    "**#Conclusion:**\n"
   ]
  },
  {
   "cell_type": "markdown",
   "metadata": {
    "id": "ND20Ik8J84TL"
   },
   "source": [
    "So, here I tried 3 diffrent model to balance the dataset. we have noticed that model have perform more and less in terms of pricision and recall. so, after noticing all the model I conclude that RandomOverSampling performs well in both precision and recall, and as we are concern about fraudulent data(recall) UnderSampling is performing good compare to others."
   ]
  }
 ],
 "metadata": {
  "colab": {
   "collapsed_sections": [],
   "name": "credit_card_fraud_detection.ipynb",
   "provenance": []
  },
  "kernelspec": {
   "display_name": "Python 3",
   "language": "python",
   "name": "python3"
  },
  "language_info": {
   "codemirror_mode": {
    "name": "ipython",
    "version": 3
   },
   "file_extension": ".py",
   "mimetype": "text/x-python",
   "name": "python",
   "nbconvert_exporter": "python",
   "pygments_lexer": "ipython3",
   "version": "3.8.8"
  }
 },
 "nbformat": 4,
 "nbformat_minor": 1
}
