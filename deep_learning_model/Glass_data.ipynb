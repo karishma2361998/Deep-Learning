{
 "cells": [
  {
   "cell_type": "code",
   "execution_count": 1,
   "metadata": {
    "id": "XQax9XBLSI1f"
   },
   "outputs": [],
   "source": [
    "import numpy as np\n",
    "import pandas as pd\n",
    "import matplotlib.pyplot as plt\n",
    "import seaborn as sns\n",
    "\n",
    "from tensorflow.keras.models import Sequential\n",
    "from tensorflow.keras.layers import Dense\n",
    "\n",
    "from sklearn.model_selection import train_test_split\n",
    "from sklearn.metrics import classification_report\n",
    "\n",
    "from sklearn.preprocessing import StandardScaler\n",
    "from sklearn.decomposition import PCA "
   ]
  },
  {
   "cell_type": "code",
   "execution_count": 2,
   "metadata": {
    "colab": {
     "base_uri": "https://localhost:8080/",
     "height": 204
    },
    "id": "Tum1qzZUTCJx",
    "outputId": "301cd5d0-6a86-44d8-ecd9-45742c1360b7"
   },
   "outputs": [
    {
     "data": {
      "text/html": [
       "<div>\n",
       "<style scoped>\n",
       "    .dataframe tbody tr th:only-of-type {\n",
       "        vertical-align: middle;\n",
       "    }\n",
       "\n",
       "    .dataframe tbody tr th {\n",
       "        vertical-align: top;\n",
       "    }\n",
       "\n",
       "    .dataframe thead th {\n",
       "        text-align: right;\n",
       "    }\n",
       "</style>\n",
       "<table border=\"1\" class=\"dataframe\">\n",
       "  <thead>\n",
       "    <tr style=\"text-align: right;\">\n",
       "      <th></th>\n",
       "      <th>RI</th>\n",
       "      <th>Na</th>\n",
       "      <th>Mg</th>\n",
       "      <th>Al</th>\n",
       "      <th>Si</th>\n",
       "      <th>K</th>\n",
       "      <th>Ca</th>\n",
       "      <th>Ba</th>\n",
       "      <th>Fe</th>\n",
       "      <th>Type</th>\n",
       "    </tr>\n",
       "  </thead>\n",
       "  <tbody>\n",
       "    <tr>\n",
       "      <th>0</th>\n",
       "      <td>1.52101</td>\n",
       "      <td>13.64</td>\n",
       "      <td>4.49</td>\n",
       "      <td>1.10</td>\n",
       "      <td>71.78</td>\n",
       "      <td>0.06</td>\n",
       "      <td>8.75</td>\n",
       "      <td>0.0</td>\n",
       "      <td>0.0</td>\n",
       "      <td>1</td>\n",
       "    </tr>\n",
       "    <tr>\n",
       "      <th>1</th>\n",
       "      <td>1.51761</td>\n",
       "      <td>13.89</td>\n",
       "      <td>3.60</td>\n",
       "      <td>1.36</td>\n",
       "      <td>72.73</td>\n",
       "      <td>0.48</td>\n",
       "      <td>7.83</td>\n",
       "      <td>0.0</td>\n",
       "      <td>0.0</td>\n",
       "      <td>1</td>\n",
       "    </tr>\n",
       "    <tr>\n",
       "      <th>2</th>\n",
       "      <td>1.51618</td>\n",
       "      <td>13.53</td>\n",
       "      <td>3.55</td>\n",
       "      <td>1.54</td>\n",
       "      <td>72.99</td>\n",
       "      <td>0.39</td>\n",
       "      <td>7.78</td>\n",
       "      <td>0.0</td>\n",
       "      <td>0.0</td>\n",
       "      <td>1</td>\n",
       "    </tr>\n",
       "    <tr>\n",
       "      <th>3</th>\n",
       "      <td>1.51766</td>\n",
       "      <td>13.21</td>\n",
       "      <td>3.69</td>\n",
       "      <td>1.29</td>\n",
       "      <td>72.61</td>\n",
       "      <td>0.57</td>\n",
       "      <td>8.22</td>\n",
       "      <td>0.0</td>\n",
       "      <td>0.0</td>\n",
       "      <td>1</td>\n",
       "    </tr>\n",
       "    <tr>\n",
       "      <th>4</th>\n",
       "      <td>1.51742</td>\n",
       "      <td>13.27</td>\n",
       "      <td>3.62</td>\n",
       "      <td>1.24</td>\n",
       "      <td>73.08</td>\n",
       "      <td>0.55</td>\n",
       "      <td>8.07</td>\n",
       "      <td>0.0</td>\n",
       "      <td>0.0</td>\n",
       "      <td>1</td>\n",
       "    </tr>\n",
       "  </tbody>\n",
       "</table>\n",
       "</div>"
      ],
      "text/plain": [
       "        RI     Na    Mg    Al     Si     K    Ca   Ba   Fe  Type\n",
       "0  1.52101  13.64  4.49  1.10  71.78  0.06  8.75  0.0  0.0     1\n",
       "1  1.51761  13.89  3.60  1.36  72.73  0.48  7.83  0.0  0.0     1\n",
       "2  1.51618  13.53  3.55  1.54  72.99  0.39  7.78  0.0  0.0     1\n",
       "3  1.51766  13.21  3.69  1.29  72.61  0.57  8.22  0.0  0.0     1\n",
       "4  1.51742  13.27  3.62  1.24  73.08  0.55  8.07  0.0  0.0     1"
      ]
     },
     "execution_count": 2,
     "metadata": {},
     "output_type": "execute_result"
    }
   ],
   "source": [
    "df = pd.read_csv('glass.csv')\n",
    "df.head()"
   ]
  },
  {
   "cell_type": "code",
   "execution_count": 3,
   "metadata": {
    "colab": {
     "base_uri": "https://localhost:8080/"
    },
    "id": "sodpWYAaTLio",
    "outputId": "f40d40fb-9658-48ce-987a-d5a599bace51"
   },
   "outputs": [
    {
     "name": "stdout",
     "output_type": "stream",
     "text": [
      "<class 'pandas.core.frame.DataFrame'>\n",
      "RangeIndex: 214 entries, 0 to 213\n",
      "Data columns (total 10 columns):\n",
      " #   Column  Non-Null Count  Dtype  \n",
      "---  ------  --------------  -----  \n",
      " 0   RI      214 non-null    float64\n",
      " 1   Na      214 non-null    float64\n",
      " 2   Mg      214 non-null    float64\n",
      " 3   Al      214 non-null    float64\n",
      " 4   Si      214 non-null    float64\n",
      " 5   K       214 non-null    float64\n",
      " 6   Ca      214 non-null    float64\n",
      " 7   Ba      214 non-null    float64\n",
      " 8   Fe      214 non-null    float64\n",
      " 9   Type    214 non-null    int64  \n",
      "dtypes: float64(9), int64(1)\n",
      "memory usage: 16.8 KB\n"
     ]
    }
   ],
   "source": [
    "df.info()"
   ]
  },
  {
   "cell_type": "code",
   "execution_count": 4,
   "metadata": {
    "colab": {
     "base_uri": "https://localhost:8080/",
     "height": 378
    },
    "id": "dCJVRZKDggQx",
    "outputId": "d8688e29-75e1-4381-ded1-88353301817d"
   },
   "outputs": [
    {
     "data": {
      "image/png": "[encoded data removed]",
      "text/plain": [
       "<Figure size 720x432 with 2 Axes>"
      ]
     },
     "metadata": {
      "needs_background": "light"
     },
     "output_type": "display_data"
    }
   ],
   "source": [
    "plt.figure(figsize=(10,6))\n",
    "sns.heatmap(df.corr(),annot=True,cmap='GnBu')\n",
    "plt.show()"
   ]
  },
  {
   "cell_type": "code",
   "execution_count": 5,
   "metadata": {
    "colab": {
     "base_uri": "https://localhost:8080/"
    },
    "id": "qgcH-dOHTTUA",
    "outputId": "92787475-3f7f-4327-d5c5-16f169ab2f78"
   },
   "outputs": [
    {
     "data": {
      "text/plain": [
       "2    76\n",
       "1    70\n",
       "7    29\n",
       "3    17\n",
       "5    13\n",
       "6     9\n",
       "Name: Type, dtype: int64"
      ]
     },
     "execution_count": 5,
     "metadata": {},
     "output_type": "execute_result"
    }
   ],
   "source": [
    "df['Type'].value_counts()"
   ]
  },
  {
   "cell_type": "code",
   "execution_count": 6,
   "metadata": {
    "colab": {
     "base_uri": "https://localhost:8080/"
    },
    "id": "zy9PsA8vfqc3",
    "outputId": "ec65662b-9a47-47e1-8285-35adaa920aa5"
   },
   "outputs": [
    {
     "data": {
      "text/plain": [
       "1    76\n",
       "0    70\n",
       "5    29\n",
       "2    17\n",
       "3    13\n",
       "4     9\n",
       "Name: Type, dtype: int64"
      ]
     },
     "execution_count": 6,
     "metadata": {},
     "output_type": "execute_result"
    }
   ],
   "source": [
    "from sklearn.preprocessing import LabelEncoder\n",
    "le = LabelEncoder()\n",
    "df[\"Type\"] = le.fit_transform(df[\"Type\"])\n",
    "df[\"Type\"].value_counts()"
   ]
  },
  {
   "cell_type": "code",
   "execution_count": 7,
   "metadata": {
    "id": "-xEVoBE6T4ly"
   },
   "outputs": [],
   "source": [
    "X = df.drop(\"Type\",axis=1)\n",
    "y = df[\"Type\"]"
   ]
  },
  {
   "cell_type": "code",
   "execution_count": 8,
   "metadata": {
    "id": "2AcO5f7pdvn2"
   },
   "outputs": [],
   "source": [
    "pc = PCA(n_components=2,random_state=1)\n",
    "components = pc.fit_transform(X,y)"
   ]
  },
  {
   "cell_type": "code",
   "execution_count": 9,
   "metadata": {
    "id": "BIe9fuHFdzsx"
   },
   "outputs": [],
   "source": [
    "pc1 = components[:,0]\n",
    "pc2 = components[:,1]\n"
   ]
  },
  {
   "cell_type": "code",
   "execution_count": 10,
   "metadata": {
    "colab": {
     "base_uri": "https://localhost:8080/",
     "height": 336
    },
    "id": "J2Co4Ts_dZp2",
    "outputId": "af554f0c-1e72-4b00-aed5-fc4dd0637ccf"
   },
   "outputs": [
    {
     "name": "stderr",
     "output_type": "stream",
     "text": [
      "/usr/local/lib/python3.7/dist-packages/seaborn/_decorators.py:43: FutureWarning: Pass the following variables as keyword args: x, y. From version 0.12, the only valid positional argument will be `data`, and passing other arguments without an explicit keyword will result in an error or misinterpretation.\n",
      "  FutureWarning\n"
     ]
    },
    {
     "data": {
      "text/plain": [
       "<matplotlib.axes._subplots.AxesSubplot at 0x7fedd70a4cd0>"
      ]
     },
     "execution_count": 10,
     "metadata": {},
     "output_type": "execute_result"
    },
    {
     "data": {
      "image/png": "[encoded data removed]",
      "text/plain": [
       "<Figure size 432x288 with 1 Axes>"
      ]
     },
     "metadata": {
      "needs_background": "light"
     },
     "output_type": "display_data"
    }
   ],
   "source": [
    "sns.scatterplot(pc1,pc2,hue=y)"
   ]
  },
  {
   "cell_type": "code",
   "execution_count": 11,
   "metadata": {
    "id": "56fMncKheAFL"
   },
   "outputs": [],
   "source": [
    "X_train,X_test,y_train,y_test = train_test_split(X,y,test_size=0.3,random_state=1)"
   ]
  },
  {
   "cell_type": "code",
   "execution_count": 12,
   "metadata": {
    "id": "t4maVK9Ia6ch"
   },
   "outputs": [],
   "source": [
    "ss = StandardScaler()\n",
    "\n",
    "X_train_ss = ss.fit_transform(X_train)\n",
    "X_test_ss = ss.transform(X_test)"
   ]
  },
  {
   "cell_type": "code",
   "execution_count": 13,
   "metadata": {
    "colab": {
     "base_uri": "https://localhost:8080/"
    },
    "id": "ocKXCaE8eHEz",
    "outputId": "806055a5-66f2-43e9-8b6b-f0fe6e245ac7"
   },
   "outputs": [
    {
     "name": "stdout",
     "output_type": "stream",
     "text": [
      "Epoch 1/80\n",
      "5/5 [==============================] - 1s 5ms/step - loss: 1.7242\n",
      "Epoch 2/80\n",
      "5/5 [==============================] - 0s 5ms/step - loss: 1.4487\n",
      "Epoch 3/80\n",
      "5/5 [==============================] - 0s 5ms/step - loss: 1.2162\n",
      "Epoch 4/80\n",
      "5/5 [==============================] - 0s 5ms/step - loss: 1.0286\n",
      "Epoch 5/80\n",
      "5/5 [==============================] - 0s 4ms/step - loss: 0.8629\n",
      "Epoch 6/80\n",
      "5/5 [==============================] - 0s 4ms/step - loss: 0.7460\n",
      "Epoch 7/80\n",
      "5/5 [==============================] - 0s 4ms/step - loss: 0.6952\n",
      "Epoch 8/80\n",
      "5/5 [==============================] - 0s 5ms/step - loss: 0.6303\n",
      "Epoch 9/80\n",
      "5/5 [==============================] - 0s 4ms/step - loss: 0.5513\n",
      "Epoch 10/80\n",
      "5/5 [==============================] - 0s 5ms/step - loss: 0.5339\n",
      "Epoch 11/80\n",
      "5/5 [==============================] - 0s 5ms/step - loss: 0.4740\n",
      "Epoch 12/80\n",
      "5/5 [==============================] - 0s 5ms/step - loss: 0.4583\n",
      "Epoch 13/80\n",
      "5/5 [==============================] - 0s 6ms/step - loss: 0.4358\n",
      "Epoch 14/80\n",
      "5/5 [==============================] - 0s 5ms/step - loss: 0.4578\n",
      "Epoch 15/80\n",
      "5/5 [==============================] - 0s 5ms/step - loss: 0.3930\n",
      "Epoch 16/80\n",
      "5/5 [==============================] - 0s 5ms/step - loss: 0.3948\n",
      "Epoch 17/80\n",
      "5/5 [==============================] - 0s 5ms/step - loss: 0.3420\n",
      "Epoch 18/80\n",
      "5/5 [==============================] - 0s 5ms/step - loss: 0.2831\n",
      "Epoch 19/80\n",
      "5/5 [==============================] - 0s 5ms/step - loss: 0.3730\n",
      "Epoch 20/80\n",
      "5/5 [==============================] - 0s 5ms/step - loss: 0.5347\n",
      "Epoch 21/80\n",
      "5/5 [==============================] - 0s 5ms/step - loss: 0.4130\n",
      "Epoch 22/80\n",
      "5/5 [==============================] - 0s 5ms/step - loss: 0.3052\n",
      "Epoch 23/80\n",
      "5/5 [==============================] - 0s 6ms/step - loss: 0.3036\n",
      "Epoch 24/80\n",
      "5/5 [==============================] - 0s 5ms/step - loss: 0.2452\n",
      "Epoch 25/80\n",
      "5/5 [==============================] - 0s 5ms/step - loss: 0.2097\n",
      "Epoch 26/80\n",
      "5/5 [==============================] - 0s 5ms/step - loss: 0.1865\n",
      "Epoch 27/80\n",
      "5/5 [==============================] - 0s 4ms/step - loss: 0.1710\n",
      "Epoch 28/80\n",
      "5/5 [==============================] - 0s 4ms/step - loss: 0.1615\n",
      "Epoch 29/80\n",
      "5/5 [==============================] - 0s 4ms/step - loss: 0.1422\n",
      "Epoch 30/80\n",
      "5/5 [==============================] - 0s 4ms/step - loss: 0.1532\n",
      "Epoch 31/80\n",
      "5/5 [==============================] - 0s 5ms/step - loss: 0.1161\n",
      "Epoch 32/80\n",
      "5/5 [==============================] - 0s 4ms/step - loss: 0.0945\n",
      "Epoch 33/80\n",
      "5/5 [==============================] - 0s 7ms/step - loss: 0.1053\n",
      "Epoch 34/80\n",
      "5/5 [==============================] - 0s 8ms/step - loss: 0.0765\n",
      "Epoch 35/80\n",
      "5/5 [==============================] - 0s 7ms/step - loss: 0.1281\n",
      "Epoch 36/80\n",
      "5/5 [==============================] - 0s 5ms/step - loss: 0.0843\n",
      "Epoch 37/80\n",
      "5/5 [==============================] - 0s 5ms/step - loss: 0.0671\n",
      "Epoch 38/80\n",
      "5/5 [==============================] - 0s 5ms/step - loss: 0.0804\n",
      "Epoch 39/80\n",
      "5/5 [==============================] - 0s 5ms/step - loss: 0.0988\n",
      "Epoch 40/80\n",
      "5/5 [==============================] - 0s 5ms/step - loss: 0.0752\n",
      "Epoch 41/80\n",
      "5/5 [==============================] - 0s 6ms/step - loss: 0.0544\n",
      "Epoch 42/80\n",
      "5/5 [==============================] - 0s 5ms/step - loss: 0.0464\n",
      "Epoch 43/80\n",
      "5/5 [==============================] - 0s 5ms/step - loss: 0.0437\n",
      "Epoch 44/80\n",
      "5/5 [==============================] - 0s 4ms/step - loss: 0.0400\n",
      "Epoch 45/80\n",
      "5/5 [==============================] - 0s 5ms/step - loss: 0.0443\n",
      "Epoch 46/80\n",
      "5/5 [==============================] - 0s 4ms/step - loss: 0.0496\n",
      "Epoch 47/80\n",
      "5/5 [==============================] - 0s 5ms/step - loss: 0.0465\n",
      "Epoch 48/80\n",
      "5/5 [==============================] - 0s 5ms/step - loss: 0.0627\n",
      "Epoch 49/80\n",
      "5/5 [==============================] - 0s 5ms/step - loss: 0.0458\n",
      "Epoch 50/80\n",
      "5/5 [==============================] - 0s 5ms/step - loss: 0.0612\n",
      "Epoch 51/80\n",
      "5/5 [==============================] - 0s 5ms/step - loss: 0.0542\n",
      "Epoch 52/80\n",
      "5/5 [==============================] - 0s 5ms/step - loss: 0.0906\n",
      "Epoch 53/80\n",
      "5/5 [==============================] - 0s 5ms/step - loss: 0.0518\n",
      "Epoch 54/80\n",
      "5/5 [==============================] - 0s 5ms/step - loss: 0.1088\n",
      "Epoch 55/80\n",
      "5/5 [==============================] - 0s 6ms/step - loss: 0.0629\n",
      "Epoch 56/80\n",
      "5/5 [==============================] - 0s 5ms/step - loss: 0.0715\n",
      "Epoch 57/80\n",
      "5/5 [==============================] - 0s 5ms/step - loss: 0.0272\n",
      "Epoch 58/80\n",
      "5/5 [==============================] - 0s 5ms/step - loss: 0.0374\n",
      "Epoch 59/80\n",
      "5/5 [==============================] - 0s 5ms/step - loss: 0.0377\n",
      "Epoch 60/80\n",
      "5/5 [==============================] - 0s 5ms/step - loss: 0.0227\n",
      "Epoch 61/80\n",
      "5/5 [==============================] - 0s 5ms/step - loss: 0.0307\n",
      "Epoch 62/80\n",
      "5/5 [==============================] - 0s 5ms/step - loss: 0.0397\n",
      "Epoch 63/80\n",
      "5/5 [==============================] - 0s 6ms/step - loss: 0.0249\n",
      "Epoch 64/80\n",
      "5/5 [==============================] - 0s 4ms/step - loss: 0.0127\n",
      "Epoch 65/80\n",
      "5/5 [==============================] - 0s 5ms/step - loss: 0.0344\n",
      "Epoch 66/80\n",
      "5/5 [==============================] - 0s 4ms/step - loss: 0.0178\n",
      "Epoch 67/80\n",
      "5/5 [==============================] - 0s 5ms/step - loss: 0.0108\n",
      "Epoch 68/80\n",
      "5/5 [==============================] - 0s 5ms/step - loss: 0.0092\n",
      "Epoch 69/80\n",
      "5/5 [==============================] - 0s 6ms/step - loss: 0.0063\n",
      "Epoch 70/80\n",
      "5/5 [==============================] - 0s 4ms/step - loss: 0.0050\n",
      "Epoch 71/80\n",
      "5/5 [==============================] - 0s 5ms/step - loss: 0.0048\n",
      "Epoch 72/80\n",
      "5/5 [==============================] - 0s 7ms/step - loss: 0.0055\n",
      "Epoch 73/80\n",
      "5/5 [==============================] - 0s 5ms/step - loss: 0.0026\n",
      "Epoch 74/80\n",
      "5/5 [==============================] - 0s 5ms/step - loss: 0.0062\n",
      "Epoch 75/80\n",
      "5/5 [==============================] - 0s 6ms/step - loss: 0.0044\n",
      "Epoch 76/80\n",
      "5/5 [==============================] - 0s 5ms/step - loss: 0.0059\n",
      "Epoch 77/80\n",
      "5/5 [==============================] - 0s 5ms/step - loss: 0.0024\n",
      "Epoch 78/80\n",
      "5/5 [==============================] - 0s 5ms/step - loss: 0.0103\n",
      "Epoch 79/80\n",
      "5/5 [==============================] - 0s 6ms/step - loss: 0.0089\n",
      "Epoch 80/80\n",
      "5/5 [==============================] - 0s 9ms/step - loss: 0.0058\n"
     ]
    }
   ],
   "source": [
    "model = Sequential()\n",
    "model.add(Dense(256, input_dim=9, activation=\"relu\"))\n",
    "model.add(Dense(256, activation=\"relu\"))\n",
    "model.add(Dense(256, activation=\"relu\"))\n",
    "model.add(Dense(128, activation=\"relu\"))\n",
    "model.add(Dense(128, activation=\"relu\"))\n",
    "model.add(Dense(128, activation=\"relu\"))\n",
    "model.add(Dense(6, activation=\"softmax\"))\n",
    "model.compile(optimizer=\"adam\",loss=\"sparse_categorical_crossentropy\")\n",
    "\n",
    "trained_model = model.fit(X_train_ss,y_train,epochs=80)"
   ]
  },
  {
   "cell_type": "code",
   "execution_count": 14,
   "metadata": {
    "colab": {
     "base_uri": "https://localhost:8080/",
     "height": 282
    },
    "id": "kNux3HNleefT",
    "outputId": "e2f61579-6364-4b31-c3fa-e5cae95298e2"
   },
   "outputs": [
    {
     "data": {
      "text/plain": [
       "[<matplotlib.lines.Line2D at 0x7fedd6fbf150>]"
      ]
     },
     "execution_count": 14,
     "metadata": {},
     "output_type": "execute_result"
    },
    {
     "data": {
      "image/png": "[encoded data removed]",
      "text/plain": [
       "<Figure size 432x288 with 1 Axes>"
      ]
     },
     "metadata": {
      "needs_background": "light"
     },
     "output_type": "display_data"
    }
   ],
   "source": [
    "plt.plot(trained_model.history['loss'])"
   ]
  },
  {
   "cell_type": "code",
   "execution_count": 15,
   "metadata": {
    "colab": {
     "base_uri": "https://localhost:8080/"
    },
    "id": "28QMJqDMgEus",
    "outputId": "fd952179-b7f5-4db6-f575-4e63c692c421"
   },
   "outputs": [
    {
     "name": "stdout",
     "output_type": "stream",
     "text": [
      "              precision    recall  f1-score   support\n",
      "\n",
      "           0       0.84      0.84      0.84        25\n",
      "           1       0.81      0.81      0.81        21\n",
      "           2       0.75      0.43      0.55         7\n",
      "           3       0.67      1.00      0.80         2\n",
      "           4       0.50      1.00      0.67         1\n",
      "           5       0.90      1.00      0.95         9\n",
      "\n",
      "    accuracy                           0.82        65\n",
      "   macro avg       0.74      0.85      0.77        65\n",
      "weighted avg       0.82      0.82      0.81        65\n",
      "\n"
     ]
    }
   ],
   "source": [
    "y_pred = model.predict(X_test_ss)\n",
    "y_pred = np.argmax(y_pred,axis=1)\n",
    "print(classification_report(y_test,y_pred))"
   ]
  }
 ],
 "metadata": {
  "colab": {
   "name": "Glass_data.ipynb",
   "provenance": []
  },
  "kernelspec": {
   "display_name": "Python 3",
   "language": "python",
   "name": "python3"
  },
  "language_info": {
   "codemirror_mode": {
    "name": "ipython",
    "version": 3
   },
   "file_extension": ".py",
   "mimetype": "text/x-python",
   "name": "python",
   "nbconvert_exporter": "python",
   "pygments_lexer": "ipython3",
   "version": "3.8.5"
  }
 },
 "nbformat": 4,
 "nbformat_minor": 1
}
